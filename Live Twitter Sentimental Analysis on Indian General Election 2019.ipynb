{
 "cells": [
  {
   "cell_type": "markdown",
   "metadata": {},
   "source": [
    "# Live Twitter Sentimental Analysis on Indian General Election 2019 "
   ]
  },
  {
   "cell_type": "code",
   "execution_count": 4,
   "metadata": {},
   "outputs": [],
   "source": [
    "from textblob import TextBlob\n",
    "import sys, tweepy\n",
    "import matplotlib.pyplot as plt\n",
    "%matplotlib inline\n"
   ]
  },
  {
   "cell_type": "code",
   "execution_count": 14,
   "metadata": {},
   "outputs": [
    {
     "name": "stdout",
     "output_type": "stream",
     "text": [
      "CHATHAM HOUSE : Indian Elections 2019: Five Things You Should Know.\n",
      "\n",
      "India’s general election kicks off on 11 April… https://t.co/BQEPyzNGTZ\n",
      "Sentiment(polarity=0.05000000000000002, subjectivity=0.5)\n",
      "Who would have thought a hundred years ago that human behavior could be thrown into a regression equation, and be m… https://t.co/q54ZIMDvKW\n",
      "Sentiment(polarity=0.0, subjectivity=0.1)\n",
      "Indian #GeneralElection 2019: How #Batman Is Influencing Voters’ Psychology https://t.co/DqSNmUUXJe… https://t.co/n0ADKyjTrV\n",
      "Sentiment(polarity=0.0, subjectivity=0.0)\n",
      "Indian General Election 2019: How Big Data Is Influencing Voters’ Psychology | Analytics Insight https://t.co/spGXpJlT0I\n",
      "Sentiment(polarity=0.02500000000000001, subjectivity=0.3)\n",
      "Indian #GeneralElection 2019: How #BigData Is Influencing Voters’ Psychology\n",
      "https://t.co/BF05VZClZp… https://t.co/U1ZUn3ZcUm\n",
      "Sentiment(polarity=0.0, subjectivity=0.0)\n",
      "RT @TelegraphPics: An Indian vendor arranges printed portraits of DMK party president during a rally for India's general election in Sriper…\n",
      "Sentiment(polarity=0.05000000000000002, subjectivity=0.5)\n",
      "RT @republic: PM Modi responds as Ravindra Jadeja announces support to BJP, makes World Cup 2019 mention. Read here\n",
      "https://t.co/UkDSJnkFwJ\n",
      "Sentiment(polarity=0.0, subjectivity=0.0)\n",
      "An Indian vendor arranges printed portraits of DMK party president during a rally for India's general election in S… https://t.co/qqg03VBjkb\n",
      "Sentiment(polarity=0.05000000000000002, subjectivity=0.5)\n",
      "RT @republic: PM Modi responds as Ravindra Jadeja announces support to BJP, makes World Cup 2019 mention. Read here\n",
      "https://t.co/UkDSJnkFwJ\n",
      "Sentiment(polarity=0.0, subjectivity=0.0)\n",
      "PM MODI RESPONDS AS RAVINDRA JADEJA ANNOUNCES SUPPORT TO BJP, MAKES WORLD CUP 2019 MENTION. READ HERE #REPUBLIC… https://t.co/xgJa1bEZeA\n",
      "Sentiment(polarity=0.0, subjectivity=0.0)\n",
      "RT @republic: PM Modi responds as Ravindra Jadeja announces support to BJP, makes World Cup 2019 mention. Read here\n",
      "https://t.co/UkDSJnkFwJ\n",
      "Sentiment(polarity=0.0, subjectivity=0.0)\n",
      "RT @republic: PM Modi responds as Ravindra Jadeja announces support to BJP, makes World Cup 2019 mention. Read here\n",
      "https://t.co/UkDSJnkFwJ\n",
      "Sentiment(polarity=0.0, subjectivity=0.0)\n"
     ]
    },
    {
     "name": "stderr",
     "output_type": "stream",
     "text": [
      "C:\\Users\\GODFATHER\\Anaconda3\\lib\\site-packages\\matplotlib\\legend.py:1270: UserWarning: You have mixed positional and keyword arguments, some input may be discarded.\n",
      "  warnings.warn(\"You have mixed positional and keyword arguments, some \"\n"
     ]
    },
    {
     "data": {
      "image/png": "[encoded data removed]",
      "text/plain": [
       "<Figure size 432x288 with 1 Axes>"
      ]
     },
     "metadata": {},
     "output_type": "display_data"
    }
   ],
   "source": [
    "def percentage(part,whole):\n",
    "    return 100*float(part)/float(whole)    \n",
    "\n",
    "ConsumerKey  = \"WAyiRJKZ5FJrcqHRZMaFp13Qb\"\n",
    "ConsumerKeySecret = \"r3zkYd9sGIfnyq1J9rGL5NTHtzGcX4wg1xkvGtsApqjYxBH2xo\"\n",
    "AccessToken = \"243162284-uoz6VEHqZNMTtFfoalZxRntBrCPgWBCDQ99VyXuv\"\n",
    "AccessTokenSecret = \"RjpGv6GPZUWeWpWdOnlMlnS1u6L7Wz3qU8BLA55pPoQZn\"\n",
    "\n",
    "auth = tweepy.OAuthHandler(ConsumerKey,ConsumerKeySecret)\n",
    "auth.set_access_token(AccessToken,AccessTokenSecret)\n",
    "\n",
    "api = tweepy.API(auth)\n",
    "tweets = api.search(\"Indian General Election 2019\")\n",
    "\n",
    "positive = 0\n",
    "negative = 0\n",
    "neutral = 0\n",
    "polarity = 0\n",
    "for tweet in tweets:\n",
    "    print(tweet.text)\n",
    "    totaltweets =(tweets.count)\n",
    "    analysis = TextBlob(tweet.text)\n",
    "    print(analysis.sentiment)\n",
    "    \n",
    "    polarity += analysis.sentiment.polarity\n",
    "    \n",
    "    if(analysis.sentiment.polarity == 0):\n",
    "        neutral += 1\n",
    "    elif(analysis.sentiment.polarity < 0.00):\n",
    "        negative += 1\n",
    "    elif(analysis.sentiment.polarity > 0.00):\n",
    "        positive += 1\n",
    "    \n",
    "positive = percentage(positive,totaltweets)\n",
    "negative = percentage(negative,totaltweets)\n",
    "neutral = percentage(neutral,totaltweets)\n",
    "    \n",
    "positive = format(positive)\n",
    "negative = format(negative)\n",
    "neutral =  format(neutral)\n",
    "        \n",
    "Labels = [\"Positive [\"+(positive)+\"%]\",\"Negative [\"+(negative)+\"%]\",\"Neutral [\"+(neutral)+\"%]\"]\n",
    "sizes = [positive,negative,neutral]\n",
    "colors = [\"Yellowgreen\",\"red\",\"purple\"]\n",
    "patches,texts = plt.pie(sizes, colors=colors, startangle=90)\n",
    "plt.legend(patches,labels= Labels,loc = \"best\")\n",
    "       \n",
    "plt.axis(\"equal\")\n",
    "plt.tight_layout()\n",
    "plt.show()"
   ]
  },
  {
   "cell_type": "markdown",
   "metadata": {},
   "source": [
    " 54% of twitter users have neutral & 27 % have positive opinion on Indian General Election 2019 "
   ]
  },
  {
   "cell_type": "code",
   "execution_count": null,
   "metadata": {},
   "outputs": [],
   "source": []
  }
 ],
 "metadata": {
  "kernelspec": {
   "display_name": "Python 3",
   "language": "python",
   "name": "python3"
  },
  "language_info": {
   "codemirror_mode": {
    "name": "ipython",
    "version": 3
   },
   "file_extension": ".py",
   "mimetype": "text/x-python",
   "name": "python",
   "nbconvert_exporter": "python",
   "pygments_lexer": "ipython3",
   "version": "3.7.1"
  }
 },
 "nbformat": 4,
 "nbformat_minor": 2
}
